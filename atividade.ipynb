{
 "cells": [
  {
   "cell_type": "markdown",
   "id": "3cc15862",
   "metadata": {},
   "source": [
    "Atividade 1"
   ]
  },
  {
   "cell_type": "code",
   "execution_count": null,
   "id": "933cef2e",
   "metadata": {},
   "outputs": [],
   "source": [
    "(5+2)"
   ]
  },
  {
   "cell_type": "markdown",
   "id": "1c8c81c0",
   "metadata": {},
   "source": [
    "sfasf"
   ]
  }
 ],
 "metadata": {
  "language_info": {
   "name": "python"
  }
 },
 "nbformat": 4,
 "nbformat_minor": 5
}
